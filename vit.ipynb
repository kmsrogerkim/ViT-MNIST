{
 "cells": [
  {
   "cell_type": "code",
   "execution_count": 1,
   "id": "e9e55aa1",
   "metadata": {},
   "outputs": [],
   "source": [
    "import torch\n",
    "import torch.nn as nn\n",
    "import pandas as pd"
   ]
  },
  {
   "cell_type": "markdown",
   "id": "fb847fc2",
   "metadata": {},
   "source": [
    "# 1. ViT"
   ]
  },
  {
   "cell_type": "code",
   "execution_count": 2,
   "id": "0f96da7e",
   "metadata": {},
   "outputs": [],
   "source": [
    "BATCH_SIZE = 512\n",
    "PATCH_SIZE = 4\n",
    "EMB_DIM = 192\n",
    "\n",
    "IMG_SIZE = 28\n",
    "IMG_DEPTH = 1\n",
    "NUM_CLASSES = 10\n",
    "\n",
    "NUM_HEADS = 4\n",
    "HIDDEN_DIM = 768\n",
    "DROP_OUT_RATE = 0.1\n",
    "\n",
    "WD = 0\n",
    "LR = 4e-4\n",
    "\n",
    "DEVICE = torch.device(\"cuda\" if torch.cuda.is_available() else \"cpu\")\n",
    "CSV_PATH = \"./data/train.csv\""
   ]
  },
  {
   "cell_type": "code",
   "execution_count": 3,
   "id": "a2116d26",
   "metadata": {},
   "outputs": [],
   "source": [
    "class PatchEmbedding(nn.Module):\n",
    "    def __init__(self, patch_size, img_size, in_channel, emb_dim, batch_size):\n",
    "        super().__init__()\n",
    "        self.patch_size = patch_size\n",
    "        self.img_size = img_size\n",
    "        self.in_channel = in_channel\n",
    "        self.emb_dim = emb_dim\n",
    "        self.batch_size = batch_size\n",
    "\n",
    "        self.emb_layer = self._embadding_layer()\n",
    "\n",
    "        num_patch = (img_size // patch_size) ** 2\n",
    "        self.cls_token = nn.Parameter(torch.randn(1, 1, emb_dim))\n",
    "        self.pos_emb = nn.Parameter(torch.randn(1, num_patch + 1, emb_dim))\n",
    "\n",
    "    def _embadding_layer(self):\n",
    "        return nn.Sequential(\n",
    "            nn.Conv2d(kernel_size=self.patch_size, stride=self.patch_size,\n",
    "                      in_channels=self.in_channel, out_channels=self.emb_dim),\n",
    "            # (B, EMB_DIM, img_size / PATCH_SIZE , img_size / PATCH_SIZE)\n",
    "            nn.Flatten(start_dim=2) \n",
    "            # (B, EMB_DIM, 49)\n",
    "        )\n",
    "\n",
    "    def forward(self, x):\n",
    "        x = self.emb_layer(x).transpose(1,2)\n",
    "\n",
    "        cls_tokens = self.cls_token.expand(self.batch_size, -1, -1)\n",
    "        x = torch.cat((cls_tokens, x), dim=1)\n",
    "        # (B, 50, EMB_DIM)\n",
    "        x = x + self.pos_emb\n",
    "        return x"
   ]
  },
  {
   "cell_type": "code",
   "execution_count": 4,
   "id": "ee15bbb5",
   "metadata": {},
   "outputs": [],
   "source": [
    "class ViT(nn.Module):\n",
    "    def __init__(self, emb_dim, num_heads, hidden_dim, drop_out_rate, \n",
    "                 img_size, patch_size, in_channels, num_classes, batch_size=BATCH_SIZE):\n",
    "        super().__init__()\n",
    "        self.emb_dim = emb_dim        \n",
    "        self.num_heads = num_heads\n",
    "        self.droptout = drop_out_rate\n",
    "        self.hidden_dim = hidden_dim\n",
    "\n",
    "        self.embedding = PatchEmbedding(patch_size=patch_size, img_size=img_size, batch_size=batch_size, \n",
    "                                        in_channel=in_channels, emb_dim=emb_dim)\n",
    "        self.encoder = self._make_encoder_layers()\n",
    "        self.norm = nn.LayerNorm(emb_dim)\n",
    "        self.mlp_head = nn.Linear(emb_dim, num_classes)\n",
    "    \n",
    "    def _make_encoder_layers(self):\n",
    "        encoder_layer = nn.TransformerEncoderLayer(\n",
    "            d_model=self.emb_dim,\n",
    "            nhead=self.num_heads,\n",
    "            dim_feedforward=self.hidden_dim,\n",
    "            dropout=self.droptout,\n",
    "            batch_first=True\n",
    "        )\n",
    "        return nn.TransformerEncoder(encoder_layer, num_layers=2)\n",
    "\n",
    "    def forward(self, x):\n",
    "        x = self.embedding(x)\n",
    "        x = self.encoder(x)\n",
    "        x = self.norm(x)\n",
    "        # (B, 50, EMB_DIM)\n",
    "        cls_token = x[:, 0, :] # (B, EMB_DIM)\n",
    "        return self.mlp_head(cls_token)"
   ]
  },
  {
   "cell_type": "markdown",
   "id": "56c97896",
   "metadata": {},
   "source": [
    "# 2. Dataset"
   ]
  },
  {
   "cell_type": "code",
   "execution_count": 5,
   "id": "743b2d5d",
   "metadata": {},
   "outputs": [],
   "source": [
    "class Dataset(torch.utils.data.Dataset):\n",
    "    def __init__(self, csv_file):\n",
    "        self.data = pd.read_csv(csv_file)\n",
    "\n",
    "    def __len__(self):\n",
    "        return len(self.data)\n",
    "\n",
    "    def __getitem__(self, idx):\n",
    "        row = self.data.iloc[idx]\n",
    "\n",
    "        label = int(row['label'])\n",
    "        pixels = torch.tensor(row.iloc[1:].values, dtype=torch.float32)\n",
    "        image = pixels.view(1, 28, 28) \n",
    "\n",
    "        return image, label"
   ]
  },
  {
   "cell_type": "code",
   "execution_count": 6,
   "id": "af3f5194",
   "metadata": {},
   "outputs": [
    {
     "name": "stdout",
     "output_type": "stream",
     "text": [
      "42000\n"
     ]
    }
   ],
   "source": [
    "from torch.utils.data import random_split\n",
    "\n",
    "dataset = Dataset(CSV_PATH)\n",
    "print(len(dataset))\n",
    "\n",
    "train_size = int(0.8 * len(dataset))\n",
    "val_size = len(dataset) - train_size\n",
    "\n",
    "train_dataset, val_dataset = random_split(dataset, [train_size, val_size])\n",
    "train_loader = torch.utils.data.DataLoader(train_dataset, batch_size=BATCH_SIZE, shuffle=True, drop_last=True)\n",
    "val_loader = torch.utils.data.DataLoader(val_dataset, batch_size=BATCH_SIZE, shuffle=True, drop_last=True)"
   ]
  },
  {
   "cell_type": "code",
   "execution_count": 7,
   "id": "278da00e",
   "metadata": {},
   "outputs": [],
   "source": [
    "# Test\n",
    "# test_vit = ViT(EMB_DIM, NUM_HEADS, HIDDEN_DIM, DROP_OUT_RATE, IMG_SIZE, PATCH_SIZE, \n",
    "#           in_channels=IMG_DEPTH, num_classes=NUM_CLASSES, batch_size=1)\n",
    "\n",
    "# loader = torch.utils.data.DataLoader(dataset, batch_size=1, shuffle=True)\n",
    "\n",
    "# for image, label in loader:\n",
    "#     out = test_vit(image)\n",
    "#     break"
   ]
  },
  {
   "cell_type": "markdown",
   "id": "5364b680",
   "metadata": {},
   "source": [
    "# 3. Train"
   ]
  },
  {
   "cell_type": "code",
   "execution_count": 8,
   "id": "f07bf372",
   "metadata": {},
   "outputs": [],
   "source": [
    "EPOCHS = 500"
   ]
  },
  {
   "cell_type": "code",
   "execution_count": 9,
   "id": "641df452",
   "metadata": {},
   "outputs": [],
   "source": [
    "from tqdm import tqdm\n",
    "from tqdm import trange"
   ]
  },
  {
   "cell_type": "code",
   "execution_count": 10,
   "id": "5e40a65e",
   "metadata": {},
   "outputs": [],
   "source": [
    "def train_fn(train_loader, model, optimizer, loss_fn, show_progress=False):\n",
    "    loop = tqdm(train_loader, leave=True) if show_progress else train_loader\n",
    "    losses = []\n",
    "\n",
    "    for _, (img, label) in enumerate(loop):\n",
    "        img = img.to(DEVICE)\n",
    "        label = label.to(DEVICE)\n",
    "        out = model(img)\n",
    "\n",
    "        loss = loss_fn(out, label)\n",
    "        losses.append(loss.item())\n",
    "\n",
    "        optimizer.zero_grad()\n",
    "        loss.backward()\n",
    "        optimizer.step()\n",
    "\n",
    "        if show_progress:\n",
    "            loop.set_postfix(loss=loss.item())\n",
    "\n",
    "    mean_loss = sum(losses) / len(losses)\n",
    "    return mean_loss\n"
   ]
  },
  {
   "cell_type": "code",
   "execution_count": 11,
   "id": "1ab2c39a",
   "metadata": {},
   "outputs": [],
   "source": [
    "def validate(loader, model, loss_fn, show_progress=False):\n",
    "    model.eval()\n",
    "    loop = tqdm(loader, leave=True) if show_progress else loader\n",
    "    losses = []\n",
    "\n",
    "    with torch.no_grad():\n",
    "        for _, (img, label) in enumerate(loop):\n",
    "            img = img.to(DEVICE)\n",
    "            label = label.to(DEVICE)\n",
    "            out = model(img)\n",
    "            loss = loss_fn(out, label)\n",
    "            losses.append(loss.item())\n",
    "\n",
    "            if show_progress:\n",
    "                loop.set_postfix(loss=loss.item())\n",
    "\n",
    "    mean_loss = sum(losses) / len(losses)\n",
    "    model.train()\n",
    "    return mean_loss\n"
   ]
  },
  {
   "cell_type": "code",
   "execution_count": 12,
   "id": "617d7240",
   "metadata": {},
   "outputs": [],
   "source": [
    "model = ViT(EMB_DIM, NUM_HEADS, HIDDEN_DIM, DROP_OUT_RATE, IMG_SIZE, PATCH_SIZE, \n",
    "          in_channels=IMG_DEPTH, num_classes=NUM_CLASSES)\n",
    "model = model.to(DEVICE)\n",
    "\n",
    "optim = torch.optim.Adam(model.parameters(), lr=LR, weight_decay=WD)\n",
    "loss = nn.CrossEntropyLoss()"
   ]
  },
  {
   "cell_type": "code",
   "execution_count": 13,
   "id": "12783731",
   "metadata": {},
   "outputs": [],
   "source": [
    "# small_dataset, val_small_dataset, _ = random_split(dataset, [5000, 1000, len(dataset) - 6000])\n",
    "# small_loader = torch.utils.data.DataLoader(small_dataset, batch_size=BATCH_SIZE, shuffle=True)\n",
    "# val_small_loader = torch.utils.data.DataLoader(val_small_dataset, batch_size=BATCH_SIZE, shuffle=True)"
   ]
  },
  {
   "cell_type": "code",
   "execution_count": 14,
   "id": "6b4763c7",
   "metadata": {},
   "outputs": [
    {
     "data": {
      "image/png": "[encoded data removed]",
      "text/plain": [
       "<Figure size 1000x500 with 1 Axes>"
      ]
     },
     "metadata": {},
     "output_type": "display_data"
    },
    {
     "name": "stderr",
     "output_type": "stream",
     "text": [
      "Training: 100%|██████████| 500/500 [1:03:18<00:00,  7.60s/it]\n"
     ]
    }
   ],
   "source": [
    "from IPython.display import clear_output\n",
    "import matplotlib.pyplot as plt\n",
    "import os\n",
    "\n",
    "train_losses = []\n",
    "val_losses = []\n",
    "best_val_loss = float('inf')\n",
    "best_model_path = None\n",
    "\n",
    "for epoch in trange(EPOCHS, desc=\"Training\"):\n",
    "    for x, y in train_loader:\n",
    "        x = x.to(DEVICE)\n",
    "\n",
    "    train_loss = train_fn(train_loader, model, optim, loss)\n",
    "    val_loss = validate(val_loader, model, loss)\n",
    "\n",
    "    train_losses.append(train_loss)\n",
    "    val_losses.append(val_loss)\n",
    "\n",
    "    # Save best model\n",
    "    if val_loss < best_val_loss:\n",
    "        best_val_loss = val_loss\n",
    "        torch.save(model.state_dict(), f\"best_model_epoch{epoch + 1}.pt\")\n",
    "        if best_model_path is not None and os.path.exists(best_model_path):\n",
    "            os.remove(best_model_path)\n",
    "        best_model_path = f\"best_model_epoch{epoch + 1}.pt\"\n",
    "\n",
    "    # ✅ Live plot in Jupyter\n",
    "    clear_output(wait=True)\n",
    "    plt.figure(figsize=(10, 5))\n",
    "    plt.plot(train_losses, label='Train Loss')\n",
    "    plt.plot(val_losses, label='Validation Loss')\n",
    "    plt.title('Training and Validation Loss')\n",
    "    plt.xlabel('Epochs')\n",
    "    plt.ylabel('Loss')\n",
    "    plt.legend()\n",
    "    plt.grid(True)\n",
    "    plt.show()\n"
   ]
  },
  {
   "cell_type": "markdown",
   "id": "85e11f7e",
   "metadata": {},
   "source": [
    "# 4. Generate Prediction"
   ]
  },
  {
   "cell_type": "code",
   "execution_count": 13,
   "id": "e98c5635",
   "metadata": {},
   "outputs": [],
   "source": [
    "TEST_CSV_PATH = \"./data/test.csv\"\n",
    "WEIGHT_PATH = \"./weights/0_4e-4_0.3.pt\""
   ]
  },
  {
   "cell_type": "code",
   "execution_count": 14,
   "id": "d98b7831",
   "metadata": {},
   "outputs": [
    {
     "data": {
      "text/plain": [
       "ViT(\n",
       "  (embedding): PatchEmbedding(\n",
       "    (emb_layer): Sequential(\n",
       "      (0): Conv2d(1, 192, kernel_size=(4, 4), stride=(4, 4))\n",
       "      (1): Flatten(start_dim=2, end_dim=-1)\n",
       "    )\n",
       "  )\n",
       "  (encoder): TransformerEncoder(\n",
       "    (layers): ModuleList(\n",
       "      (0-1): 2 x TransformerEncoderLayer(\n",
       "        (self_attn): MultiheadAttention(\n",
       "          (out_proj): NonDynamicallyQuantizableLinear(in_features=192, out_features=192, bias=True)\n",
       "        )\n",
       "        (linear1): Linear(in_features=192, out_features=768, bias=True)\n",
       "        (dropout): Dropout(p=0.1, inplace=False)\n",
       "        (linear2): Linear(in_features=768, out_features=192, bias=True)\n",
       "        (norm1): LayerNorm((192,), eps=1e-05, elementwise_affine=True)\n",
       "        (norm2): LayerNorm((192,), eps=1e-05, elementwise_affine=True)\n",
       "        (dropout1): Dropout(p=0.1, inplace=False)\n",
       "        (dropout2): Dropout(p=0.1, inplace=False)\n",
       "      )\n",
       "    )\n",
       "  )\n",
       "  (norm): LayerNorm((192,), eps=1e-05, elementwise_affine=True)\n",
       "  (mlp_head): Linear(in_features=192, out_features=10, bias=True)\n",
       ")"
      ]
     },
     "execution_count": 14,
     "metadata": {},
     "output_type": "execute_result"
    }
   ],
   "source": [
    "test_model = ViT(EMB_DIM, NUM_HEADS, HIDDEN_DIM, DROP_OUT_RATE, IMG_SIZE, PATCH_SIZE, \n",
    "          in_channels=IMG_DEPTH, num_classes=NUM_CLASSES, batch_size=1)\n",
    "test_model.to(DEVICE)\n",
    "\n",
    "state_dict = torch.load(WEIGHT_PATH, weights_only=True)\n",
    "test_model.load_state_dict(state_dict)\n",
    "\n",
    "test_model.eval()"
   ]
  },
  {
   "cell_type": "code",
   "execution_count": 15,
   "id": "f9d499b9",
   "metadata": {},
   "outputs": [],
   "source": [
    "test_df = pd.read_csv(TEST_CSV_PATH)\n",
    "test_df.insert(0, 'label', range(1, len(test_df) + 1)) # To reuse the current dataset, \"label\" column is used\n",
    "test_df.to_csv(\"./data/test_with_image_id.csv\", index=False)\n",
    "\n",
    "test_dataset = Dataset(\"./data/test_with_image_id.csv\")\n",
    "test_loader = torch.utils.data.DataLoader(test_dataset, shuffle=False)"
   ]
  },
  {
   "cell_type": "code",
   "execution_count": 17,
   "id": "40682dac",
   "metadata": {},
   "outputs": [],
   "source": [
    "results = []\n",
    "for img, img_id  in test_loader:\n",
    "    x = img.to(DEVICE)\n",
    "    out = test_model(x)\n",
    "    out = int(torch.argmax(out))\n",
    "    results.append(out)"
   ]
  },
  {
   "cell_type": "code",
   "execution_count": 19,
   "id": "cc5238ed",
   "metadata": {},
   "outputs": [
    {
     "name": "stdout",
     "output_type": "stream",
     "text": [
      "       ImageId  Label\n",
      "0            1      2\n",
      "1            2      0\n",
      "2            3      9\n",
      "3            4      9\n",
      "4            5      3\n",
      "...        ...    ...\n",
      "27995    27996      9\n",
      "27996    27997      7\n",
      "27997    27998      3\n",
      "27998    27999      9\n",
      "27999    28000      2\n",
      "\n",
      "[28000 rows x 2 columns]\n"
     ]
    }
   ],
   "source": [
    "submission = pd.DataFrame({\n",
    "    \"ImageId\":test_df[\"label\"],\n",
    "    \"Label\":results,\n",
    "})\n",
    "\n",
    "print(submission)\n",
    "submission.to_csv(\"./data/submission.csv\", index=False)"
   ]
  }
 ],
 "metadata": {
  "kernelspec": {
   "display_name": "digit-recognizer-py3.12 (3.12.3)",
   "language": "python",
   "name": "python3"
  },
  "language_info": {
   "codemirror_mode": {
    "name": "ipython",
    "version": 3
   },
   "file_extension": ".py",
   "mimetype": "text/x-python",
   "name": "python",
   "nbconvert_exporter": "python",
   "pygments_lexer": "ipython3",
   "version": "3.12.3"
  }
 },
 "nbformat": 4,
 "nbformat_minor": 5
}
